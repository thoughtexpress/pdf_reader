{
 "cells": [
  {
   "cell_type": "markdown",
   "id": "624c589f",
   "metadata": {},
   "source": [
    "# Pdf REader"
   ]
  },
  {
   "cell_type": "markdown",
   "id": "d18c0f18",
   "metadata": {},
   "source": [
    "## https://medium.com/@sangitapokhrel911/llm-based-pdf-summarizer-and-q-a-app-using-openai-langchain-and-streamlit-807b9b133d9c"
   ]
  },
  {
   "cell_type": "code",
   "execution_count": null,
   "id": "fd9a7d75",
   "metadata": {},
   "outputs": [
    {
     "ename": "",
     "evalue": "",
     "output_type": "error",
     "traceback": [
      "\u001b[1;31mRunning cells with 'pdf_reader (Python 3.11.9)' requires the ipykernel package.\n",
      "\u001b[1;31mRun the following command to install 'ipykernel' into the Python environment. \n",
      "\u001b[1;31mCommand: 'conda install -n pdf_reader ipykernel --update-deps --force-reinstall'"
     ]
    }
   ],
   "source": [
    "from dotenv import load_dotenv\n",
    "import streamlit as st\n",
    "from PyPDF2 import PdfReader\n",
    "from streamlit_extras.add_vertical_space import add_vertical_space\n",
    "from langchain.text_splitter import CharacterTextSplitter\n",
    "from langchain.embeddings.openai import OpenAIEmbeddings\n",
    "from langchain.vectorstores import FAISS\n",
    "from langchain.chains.question_answering import load_qa_chain\n",
    "from langchain.llms import OpenAI\n",
    "from langchain.callbacks import get_openai_callback"
   ]
  },
  {
   "cell_type": "markdown",
   "id": "48c2429e",
   "metadata": {},
   "source": []
  }
 ],
 "metadata": {
  "kernelspec": {
   "display_name": "pdf_reader",
   "language": "python",
   "name": "python3"
  },
  "language_info": {
   "name": "python",
   "version": "3.11.9"
  }
 },
 "nbformat": 4,
 "nbformat_minor": 5
}
